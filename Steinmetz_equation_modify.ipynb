{
 "cells": [
  {
   "cell_type": "code",
   "execution_count": 34,
   "outputs": [],
   "source": [
    "import numpy as np\n",
    "from sklearn.linear_model import Lasso, Ridge\n",
    "from sklearn.metrics import mean_squared_error\n",
    "import pandas as pd\n",
    "import matplotlib.pyplot as plt\n",
    "from scipy.fft import fft\n",
    "import pywt\n",
    "import seaborn as sns\n",
    "from sklearn.model_selection import train_test_split\n",
    "from sklearn.ensemble import GradientBoostingClassifier\n",
    "from sklearn.metrics import classification_report, confusion_matrix\n",
    "from sklearn.preprocessing import StandardScaler\n",
    "from sklearn.svm import SVC\n",
    "from sklearn.ensemble import RandomForestClassifier"
   ],
   "metadata": {
    "collapsed": false,
    "ExecuteTime": {
     "end_time": "2024-09-22T03:52:39.352991600Z",
     "start_time": "2024-09-22T03:52:39.330418500Z"
    }
   },
   "id": "d0637b93ebb0ebbd"
  },
  {
   "cell_type": "code",
   "execution_count": 3,
   "id": "initial_id",
   "metadata": {
    "collapsed": true,
    "ExecuteTime": {
     "end_time": "2024-09-22T03:10:49.884550500Z",
     "start_time": "2024-09-22T03:10:18.218259800Z"
    }
   },
   "outputs": [
    {
     "data": {
      "text/plain": "      温度，oC   频率，Hz      磁芯损耗，w/m3 励磁波形  0（磁通密度B，T）         1         2  \\\n0        25   50030    1997.955250  正弦波    0.000213  0.000389  0.000566   \n1        25   50020    2427.749830  正弦波   -0.000551 -0.000358 -0.000165   \n2        25   50020    3332.725760  正弦波   -0.003780 -0.003564 -0.003349   \n3        25   50020    4502.908007  正弦波   -0.000511 -0.000267 -0.000023   \n4        25   50030    6063.023248  正弦波    0.000458  0.000732  0.001007   \n...     ...     ...            ...  ...         ...       ...       ...   \n3395     90  316460   25951.976130  梯形波   -0.014217 -0.013898 -0.013582   \n3396     90  316460   41673.753350  梯形波   -0.017910 -0.017508 -0.017108   \n3397     90  316460   53402.776280  梯形波   -0.020028 -0.019578 -0.019130   \n3398     90  316460  112528.009400  梯形波   -0.027652 -0.027021 -0.026392   \n3399     90  316460  145226.508600  梯形波   -0.030905 -0.030196 -0.029490   \n\n             3         4         5  ...      1014      1015      1016  \\\n0     0.000743  0.000919  0.001096  ... -0.001551 -0.001374 -0.001198   \n1     0.000028  0.000221  0.000413  ... -0.002476 -0.002284 -0.002091   \n2    -0.003134 -0.002919 -0.002704  ... -0.005927 -0.005713 -0.005499   \n3     0.000222  0.000466  0.000711  ... -0.002950 -0.002707 -0.002463   \n4     0.001281  0.001555  0.001830  ... -0.002290 -0.002016 -0.001741   \n...        ...       ...       ...  ...       ...       ...       ...   \n3395 -0.013266 -0.012951 -0.012634  ... -0.016320 -0.016200 -0.016076   \n3396 -0.016711 -0.016312 -0.015912  ... -0.020542 -0.020390 -0.020234   \n3397 -0.018684 -0.018237 -0.017790  ... -0.023021 -0.022852 -0.022679   \n3398 -0.025764 -0.025138 -0.024513  ... -0.032188 -0.031942 -0.031679   \n3399 -0.028785 -0.028082 -0.027380  ... -0.036009 -0.035732 -0.035434   \n\n          1017      1018      1019      1020      1021      1022      1023  \n0    -0.001022 -0.000846 -0.000669 -0.000492 -0.000316 -0.000140  0.000036  \n1    -0.001899 -0.001707 -0.001515 -0.001322 -0.001129 -0.000937 -0.000744  \n2    -0.005285 -0.005070 -0.004855 -0.004640 -0.004425 -0.004210 -0.003995  \n3    -0.002220 -0.001976 -0.001732 -0.001488 -0.001244 -0.001000 -0.000756  \n4    -0.001466 -0.001192 -0.000917 -0.000642 -0.000367 -0.000092  0.000183  \n...        ...       ...       ...       ...       ...       ...       ...  \n3395 -0.015945 -0.015797 -0.015620 -0.015403 -0.015143 -0.014849 -0.014537  \n3396 -0.020069 -0.019883 -0.019663 -0.019394 -0.019070 -0.018703 -0.018312  \n3397 -0.022491 -0.022278 -0.022022 -0.021709 -0.021337 -0.020920 -0.020478  \n3398 -0.031381 -0.031029 -0.030602 -0.030094 -0.029522 -0.028912 -0.028285  \n3399 -0.035096 -0.034697 -0.034213 -0.033641 -0.032999 -0.032315 -0.031613  \n\n[3400 rows x 1028 columns]",
      "text/html": "<div>\n<style scoped>\n    .dataframe tbody tr th:only-of-type {\n        vertical-align: middle;\n    }\n\n    .dataframe tbody tr th {\n        vertical-align: top;\n    }\n\n    .dataframe thead th {\n        text-align: right;\n    }\n</style>\n<table border=\"1\" class=\"dataframe\">\n  <thead>\n    <tr style=\"text-align: right;\">\n      <th></th>\n      <th>温度，oC</th>\n      <th>频率，Hz</th>\n      <th>磁芯损耗，w/m3</th>\n      <th>励磁波形</th>\n      <th>0（磁通密度B，T）</th>\n      <th>1</th>\n      <th>2</th>\n      <th>3</th>\n      <th>4</th>\n      <th>5</th>\n      <th>...</th>\n      <th>1014</th>\n      <th>1015</th>\n      <th>1016</th>\n      <th>1017</th>\n      <th>1018</th>\n      <th>1019</th>\n      <th>1020</th>\n      <th>1021</th>\n      <th>1022</th>\n      <th>1023</th>\n    </tr>\n  </thead>\n  <tbody>\n    <tr>\n      <th>0</th>\n      <td>25</td>\n      <td>50030</td>\n      <td>1997.955250</td>\n      <td>正弦波</td>\n      <td>0.000213</td>\n      <td>0.000389</td>\n      <td>0.000566</td>\n      <td>0.000743</td>\n      <td>0.000919</td>\n      <td>0.001096</td>\n      <td>...</td>\n      <td>-0.001551</td>\n      <td>-0.001374</td>\n      <td>-0.001198</td>\n      <td>-0.001022</td>\n      <td>-0.000846</td>\n      <td>-0.000669</td>\n      <td>-0.000492</td>\n      <td>-0.000316</td>\n      <td>-0.000140</td>\n      <td>0.000036</td>\n    </tr>\n    <tr>\n      <th>1</th>\n      <td>25</td>\n      <td>50020</td>\n      <td>2427.749830</td>\n      <td>正弦波</td>\n      <td>-0.000551</td>\n      <td>-0.000358</td>\n      <td>-0.000165</td>\n      <td>0.000028</td>\n      <td>0.000221</td>\n      <td>0.000413</td>\n      <td>...</td>\n      <td>-0.002476</td>\n      <td>-0.002284</td>\n      <td>-0.002091</td>\n      <td>-0.001899</td>\n      <td>-0.001707</td>\n      <td>-0.001515</td>\n      <td>-0.001322</td>\n      <td>-0.001129</td>\n      <td>-0.000937</td>\n      <td>-0.000744</td>\n    </tr>\n    <tr>\n      <th>2</th>\n      <td>25</td>\n      <td>50020</td>\n      <td>3332.725760</td>\n      <td>正弦波</td>\n      <td>-0.003780</td>\n      <td>-0.003564</td>\n      <td>-0.003349</td>\n      <td>-0.003134</td>\n      <td>-0.002919</td>\n      <td>-0.002704</td>\n      <td>...</td>\n      <td>-0.005927</td>\n      <td>-0.005713</td>\n      <td>-0.005499</td>\n      <td>-0.005285</td>\n      <td>-0.005070</td>\n      <td>-0.004855</td>\n      <td>-0.004640</td>\n      <td>-0.004425</td>\n      <td>-0.004210</td>\n      <td>-0.003995</td>\n    </tr>\n    <tr>\n      <th>3</th>\n      <td>25</td>\n      <td>50020</td>\n      <td>4502.908007</td>\n      <td>正弦波</td>\n      <td>-0.000511</td>\n      <td>-0.000267</td>\n      <td>-0.000023</td>\n      <td>0.000222</td>\n      <td>0.000466</td>\n      <td>0.000711</td>\n      <td>...</td>\n      <td>-0.002950</td>\n      <td>-0.002707</td>\n      <td>-0.002463</td>\n      <td>-0.002220</td>\n      <td>-0.001976</td>\n      <td>-0.001732</td>\n      <td>-0.001488</td>\n      <td>-0.001244</td>\n      <td>-0.001000</td>\n      <td>-0.000756</td>\n    </tr>\n    <tr>\n      <th>4</th>\n      <td>25</td>\n      <td>50030</td>\n      <td>6063.023248</td>\n      <td>正弦波</td>\n      <td>0.000458</td>\n      <td>0.000732</td>\n      <td>0.001007</td>\n      <td>0.001281</td>\n      <td>0.001555</td>\n      <td>0.001830</td>\n      <td>...</td>\n      <td>-0.002290</td>\n      <td>-0.002016</td>\n      <td>-0.001741</td>\n      <td>-0.001466</td>\n      <td>-0.001192</td>\n      <td>-0.000917</td>\n      <td>-0.000642</td>\n      <td>-0.000367</td>\n      <td>-0.000092</td>\n      <td>0.000183</td>\n    </tr>\n    <tr>\n      <th>...</th>\n      <td>...</td>\n      <td>...</td>\n      <td>...</td>\n      <td>...</td>\n      <td>...</td>\n      <td>...</td>\n      <td>...</td>\n      <td>...</td>\n      <td>...</td>\n      <td>...</td>\n      <td>...</td>\n      <td>...</td>\n      <td>...</td>\n      <td>...</td>\n      <td>...</td>\n      <td>...</td>\n      <td>...</td>\n      <td>...</td>\n      <td>...</td>\n      <td>...</td>\n      <td>...</td>\n    </tr>\n    <tr>\n      <th>3395</th>\n      <td>90</td>\n      <td>316460</td>\n      <td>25951.976130</td>\n      <td>梯形波</td>\n      <td>-0.014217</td>\n      <td>-0.013898</td>\n      <td>-0.013582</td>\n      <td>-0.013266</td>\n      <td>-0.012951</td>\n      <td>-0.012634</td>\n      <td>...</td>\n      <td>-0.016320</td>\n      <td>-0.016200</td>\n      <td>-0.016076</td>\n      <td>-0.015945</td>\n      <td>-0.015797</td>\n      <td>-0.015620</td>\n      <td>-0.015403</td>\n      <td>-0.015143</td>\n      <td>-0.014849</td>\n      <td>-0.014537</td>\n    </tr>\n    <tr>\n      <th>3396</th>\n      <td>90</td>\n      <td>316460</td>\n      <td>41673.753350</td>\n      <td>梯形波</td>\n      <td>-0.017910</td>\n      <td>-0.017508</td>\n      <td>-0.017108</td>\n      <td>-0.016711</td>\n      <td>-0.016312</td>\n      <td>-0.015912</td>\n      <td>...</td>\n      <td>-0.020542</td>\n      <td>-0.020390</td>\n      <td>-0.020234</td>\n      <td>-0.020069</td>\n      <td>-0.019883</td>\n      <td>-0.019663</td>\n      <td>-0.019394</td>\n      <td>-0.019070</td>\n      <td>-0.018703</td>\n      <td>-0.018312</td>\n    </tr>\n    <tr>\n      <th>3397</th>\n      <td>90</td>\n      <td>316460</td>\n      <td>53402.776280</td>\n      <td>梯形波</td>\n      <td>-0.020028</td>\n      <td>-0.019578</td>\n      <td>-0.019130</td>\n      <td>-0.018684</td>\n      <td>-0.018237</td>\n      <td>-0.017790</td>\n      <td>...</td>\n      <td>-0.023021</td>\n      <td>-0.022852</td>\n      <td>-0.022679</td>\n      <td>-0.022491</td>\n      <td>-0.022278</td>\n      <td>-0.022022</td>\n      <td>-0.021709</td>\n      <td>-0.021337</td>\n      <td>-0.020920</td>\n      <td>-0.020478</td>\n    </tr>\n    <tr>\n      <th>3398</th>\n      <td>90</td>\n      <td>316460</td>\n      <td>112528.009400</td>\n      <td>梯形波</td>\n      <td>-0.027652</td>\n      <td>-0.027021</td>\n      <td>-0.026392</td>\n      <td>-0.025764</td>\n      <td>-0.025138</td>\n      <td>-0.024513</td>\n      <td>...</td>\n      <td>-0.032188</td>\n      <td>-0.031942</td>\n      <td>-0.031679</td>\n      <td>-0.031381</td>\n      <td>-0.031029</td>\n      <td>-0.030602</td>\n      <td>-0.030094</td>\n      <td>-0.029522</td>\n      <td>-0.028912</td>\n      <td>-0.028285</td>\n    </tr>\n    <tr>\n      <th>3399</th>\n      <td>90</td>\n      <td>316460</td>\n      <td>145226.508600</td>\n      <td>梯形波</td>\n      <td>-0.030905</td>\n      <td>-0.030196</td>\n      <td>-0.029490</td>\n      <td>-0.028785</td>\n      <td>-0.028082</td>\n      <td>-0.027380</td>\n      <td>...</td>\n      <td>-0.036009</td>\n      <td>-0.035732</td>\n      <td>-0.035434</td>\n      <td>-0.035096</td>\n      <td>-0.034697</td>\n      <td>-0.034213</td>\n      <td>-0.033641</td>\n      <td>-0.032999</td>\n      <td>-0.032315</td>\n      <td>-0.031613</td>\n    </tr>\n  </tbody>\n</table>\n<p>3400 rows × 1028 columns</p>\n</div>"
     },
     "execution_count": 3,
     "metadata": {},
     "output_type": "execute_result"
    }
   ],
   "source": [
    "# 数据预处理\n",
    "# 训练集\n",
    "material_1 = pd.read_excel('F:/00程序/Githubclone_Projects/ICNN/datasets/CoreLosses/附件一（训练集）.xlsx', sheet_name='材料1')\n",
    "material = material_1.iloc[:, :1068]\n",
    "material"
   ]
  },
  {
   "cell_type": "code",
   "execution_count": 28,
   "outputs": [
    {
     "data": {
      "text/plain": "0       0.028849\n1       0.031419\n2       0.035535\n3       0.040015\n4       0.045028\n          ...   \n3395    0.027540\n3396    0.034780\n3397    0.038987\n3398    0.054829\n3399    0.061444\nLength: 3400, dtype: float64"
     },
     "execution_count": 28,
     "metadata": {},
     "output_type": "execute_result"
    }
   ],
   "source": [
    "data = material.iloc[1:, :]\n",
    "T = material.iloc[:, 0]\n",
    "f = material.iloc[:, 1]\n",
    "P = material.iloc[:, 2]\n",
    "B = material.iloc[:, 4:]\n",
    "Bm = B.max(axis = 1)"
   ],
   "metadata": {
    "collapsed": false,
    "ExecuteTime": {
     "end_time": "2024-09-22T03:49:14.186299800Z",
     "start_time": "2024-09-22T03:49:14.139323700Z"
    }
   },
   "id": "9501c2b6c92de472"
  },
  {
   "cell_type": "code",
   "execution_count": 31,
   "outputs": [
    {
     "data": {
      "text/plain": "0         1997.955250\n1         2427.749830\n2         3332.725760\n3         4502.908007\n4         6063.023248\n            ...      \n3395     25951.976130\n3396     41673.753350\n3397     53402.776280\n3398    112528.009400\n3399    145226.508600\nName: 磁芯损耗，w/m3, Length: 3400, dtype: float64"
     },
     "execution_count": 31,
     "metadata": {},
     "output_type": "execute_result"
    }
   ],
   "source": [
    "# 假设 data 包含了所有的实验数据，包括 P、f、Bm、T\n",
    "X = pd.concat([T, f, Bm], axis=1, ignore_index=True) # 特征矩阵\n",
    "y = P"
   ],
   "metadata": {
    "collapsed": false,
    "ExecuteTime": {
     "end_time": "2024-09-22T03:50:40.196311100Z",
     "start_time": "2024-09-22T03:50:40.170887300Z"
    }
   },
   "id": "4a1a4ab8679f1c50"
  },
  {
   "cell_type": "code",
   "execution_count": 32,
   "outputs": [],
   "source": [
    "# 将数据划分为训练集和测试集\n",
    "X_train, X_test, y_train, y_test = train_test_split(X, y, test_size=0.2, random_state=42)"
   ],
   "metadata": {
    "collapsed": false,
    "ExecuteTime": {
     "end_time": "2024-09-22T03:50:46.796280300Z",
     "start_time": "2024-09-22T03:50:46.775556500Z"
    }
   },
   "id": "e62d5d2698931bed"
  },
  {
   "cell_type": "code",
   "execution_count": 35,
   "outputs": [
    {
     "name": "stdout",
     "output_type": "stream",
     "text": [
      "Lasso MSE: 48706034931.2613\n"
     ]
    }
   ],
   "source": [
    "# 创建 Lasso 回归模型\n",
    "lasso = Lasso(alpha=0.1)  \n",
    "\n",
    "# 拟合 Lasso 回归模型\n",
    "lasso.fit(X_train, y_train)\n",
    "\n",
    "# 预测 Lasso 回归结果\n",
    "y_pred_lasso = lasso.predict(X_test)\n",
    "\n",
    "# 计算 Lasso 回归的均方误差\n",
    "mse_lasso = mean_squared_error(y_test, y_pred_lasso)\n",
    "print(f\"Lasso MSE: {mse_lasso}\")"
   ],
   "metadata": {
    "collapsed": false,
    "ExecuteTime": {
     "end_time": "2024-09-22T03:52:42.583366700Z",
     "start_time": "2024-09-22T03:52:42.558108400Z"
    }
   },
   "id": "852aa872a4389da6"
  },
  {
   "cell_type": "code",
   "execution_count": 36,
   "outputs": [
    {
     "name": "stdout",
     "output_type": "stream",
     "text": [
      "Ridge MSE: 48661849718.666504\n"
     ]
    }
   ],
   "source": [
    "# 创建岭回归模型\n",
    "ridge = Ridge(alpha=0.1)  # 可以调整 alpha 参数\n",
    "\n",
    "# 拟合岭回归模型\n",
    "ridge.fit(X_train, y_train)\n",
    "\n",
    "# 预测岭回归结果\n",
    "y_pred_ridge = ridge.predict(X_test)\n",
    "\n",
    "# 计算岭回归的均方误差\n",
    "mse_ridge = mean_squared_error(y_test, y_pred_ridge)\n",
    "print(f\"Ridge MSE: {mse_ridge}\")"
   ],
   "metadata": {
    "collapsed": false,
    "ExecuteTime": {
     "end_time": "2024-09-22T03:53:55.883969800Z",
     "start_time": "2024-09-22T03:53:55.849818600Z"
    }
   },
   "id": "751cd20ee76e5fce"
  },
  {
   "cell_type": "code",
   "execution_count": null,
   "outputs": [],
   "source": [],
   "metadata": {
    "collapsed": false
   },
   "id": "cad97e2c230cd44c"
  }
 ],
 "metadata": {
  "kernelspec": {
   "display_name": "Python 3",
   "language": "python",
   "name": "python3"
  },
  "language_info": {
   "codemirror_mode": {
    "name": "ipython",
    "version": 2
   },
   "file_extension": ".py",
   "mimetype": "text/x-python",
   "name": "python",
   "nbconvert_exporter": "python",
   "pygments_lexer": "ipython2",
   "version": "2.7.6"
  }
 },
 "nbformat": 4,
 "nbformat_minor": 5
}
